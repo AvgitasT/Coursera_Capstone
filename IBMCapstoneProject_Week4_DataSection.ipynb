{
 "cells": [
  {
   "cell_type": "markdown",
   "metadata": {},
   "source": [
    "# IBM Capstone Project Week4 Data Section\n",
    "\n",
    "## Foursquare API data\n",
    "\n",
    "Based on the introduction the data we are going to use is from the Foursquare API.<br>\n",
    "In week 3 we analyzed the data for Toronto by scraping the postcodes from Wikipedia and relate them to the coordinates from pgeocode package.\n",
    "We will once more do the same but this time around we will use the coordinates of the restaurants at each neighborhood and return a catalog with the venues around it within a radius of 2 miles (3.2 km)\n",
    "Since the area is large (3.2 km) we will also calculate the distance of each venue from the restaurant and we will include it in our database.<br>\n",
    "(We are going to further this section as the analysis goes on and the data stractures start taking form)"
   ]
  },
  {
   "cell_type": "code",
   "execution_count": null,
   "metadata": {},
   "outputs": [],
   "source": []
  }
 ],
 "metadata": {
  "kernelspec": {
   "display_name": "Python 3",
   "language": "python",
   "name": "python3"
  },
  "language_info": {
   "codemirror_mode": {
    "name": "ipython",
    "version": 3
   },
   "file_extension": ".py",
   "mimetype": "text/x-python",
   "name": "python",
   "nbconvert_exporter": "python",
   "pygments_lexer": "ipython3",
   "version": "3.7.3"
  }
 },
 "nbformat": 4,
 "nbformat_minor": 2
}
