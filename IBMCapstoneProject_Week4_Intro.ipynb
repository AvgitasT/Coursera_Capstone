{
 "cells": [
  {
   "cell_type": "markdown",
   "metadata": {},
   "source": [
    "# IBM final capstone project\n",
    "# Foursquare api utilization for result extraction\n",
    "## Find location for a new restaurant in Toronto\n",
    "\n",
    "### Introduction:\n",
    "\n",
    "The location of a new restaurant is one of the core factors that determine the expenses and the income for the business. A location is often appreciated by other characteristics like how many people pass by, car accessibilty, businesses around the restaurant, competition etc. In this final project we will try to implement a frequentist analysis in order to profile the city of Toronto for these factors. The main focus is to find the right location as well as the right type of restaurant to be opened there. We use the foursquare API in order to extract information about the different aspects businesses and venues within Toronto. We acknowledge that many institutions and individual scientists have made simiral studies with much more impactful results since they had access to more and better data like \"safegraph\".\n",
    "\n",
    "\n",
    "#### Location\n",
    "\n",
    "Location in this context is a multivariete concept. There are plenty of articles online where one can find what location is all about. Things like visibility, parking, space size, crime rates, are all location related. Also customer demographics tends to be location related. The online articles are not clear on how to properly prioretize each factor.\n",
    "\n",
    "#### Attributes quantification problems\n",
    "\n",
    "Another problem that arises is the proper quantification of each factor. How can one properly quantify parking evailability for instance? Is it the total number of parking spaces? Is it the free parking spaces or should the paid ones also be accounted for. If a neighborhood has no spaces available but it is easily accessed by foot how does the parking space factor affected?\n",
    "So we identify two main problems. The hierarchy problem and the quantification problem for each factor.\n",
    "Another problem is the quantification of the success for each venue. Which is more succesful a restaurant with 500 clients per day that get's average ratings or another one with 50 clients a day but with exceptional customer reviews?\n",
    "\n",
    "#### Data evailability\n",
    "\n",
    "Going through articles and data science sites focused into these specific subject - How to choose location for a new restaurant? - we realized that the foursquare data alone wouldn't be sufficient for this kind of work. An important factor has to do with the clientele, demographics and phychographics. These kind of databases are available for some cities and/or neighborhoods but our investigation showed that they are assets one should have to pay for. This leads as to try and find another strategy for the analysis.\n",
    "\n",
    "### Analysis Strategy\n",
    "\n",
    "Since the data availability confines us to the Foursquare API (and maybe some web scraping) we need to setup a strategy for our analysis that will deviate from what one in the food industry would call \"standard\". What we would like to do is to put the foursquare venue results in a ML algorith and provide us with the location of the new restaurant we want to open. But how are we going to train this algorithm?\n",
    "\n",
    "#### Successful Restaurant or just A Restaurant?\n",
    "If we want to open a restaurant that is going to be succesful and make money we should consider the question: What makes a successful restaurant? Most importantly though we should address the question of quantification once more. How can one quantify this success. If a restaurant has 50 clients per day and another one 10 clients per day which one is more successful. If the reviews for the first are 6/10 and the second gets 9/10 should we take this into consideration? If so how do we quantify this?<br>\n",
    "If a restaurant just opened, let's say this last month and shows up in the Foursquare app how do we account for this?                           Should we use this for our analysis? Is this a successful one or one that will close in the next year?<br>\n",
    "In the question of the title we will go with the simplest answer. We will choose to place just a restaurant. Once our analysis is complete we will see if tinkering with factors like success and duration of operation is something possible.\n",
    "\n",
    "#### So what is the strategy?\n",
    "We take a restaurant and we will create a catalog with the venues around it. We will do this for all restaurants Toronto. In this manner we will have addressed the following question. What venues lay in the viscignity of a restaurant? So the algorithm would say: Can I find a certain area with this kind of profile? If so then I should place a restaurant there.\n",
    "\n",
    "#### What area around the restaurant should we consider?\n",
    "The paper \"Beyond Neighborhood Food Environments: Distance traveled to food Establishments\" (by Jodi .L. Liu, Bing Han, Deborah A. Cohen) reports that the distances that people will travel are \n",
    "\n",
    "|coustomers ratio| Sit Down Restaurants radious | Fast Foods radious|\n",
    "|:---------      | :--------------:             | --------------:   |\n",
    "|0.55            | 2 miles                      | nan               |\n",
    "|0.68            | 4 miles                      | 2 miles           |\n",
    "|0.96            | 13 miles                     | 11 miles          |\n",
    "|1               | 19 miles                     | 19 miles          |\n",
    "\n",
    "What this study tells us is that for a sit down restaurant the 55% of the customers come from a radius of 2 miles around that restaurant while for a fast food venue the same radius delivers 57% (not in table) of the clientele.<br>\n",
    "So in terms of clients a neighborhood for a restaurants consists of this 2 mile radious and this will be our initial radius for profiling the area around the restaurant.\n",
    "\n",
    "#### Toronto dimensions\n",
    "According to wikipedia Toronto covers an area of 630 sq. miles. It extends to 21 km in the North-South direction and to 43 km in the E-W. This means that ones we create the catalog with all the venues around already existing restaurants we will need to scan the entrire area of Toronto for the new restaurant location. In this manner we should seperate the Toronto area into a grid of points. Approximately this grid is going to have 903 points (21 km x 43 km) with one kilometer distance between adjacent points.\n",
    "\n",
    "#### Final Step\n",
    "In this final step our study should be able to return the 10 most suitable grid points for placing our new restaurant."
   ]
  },
  {
   "cell_type": "code",
   "execution_count": null,
   "metadata": {},
   "outputs": [],
   "source": []
  }
 ],
 "metadata": {
  "kernelspec": {
   "display_name": "Python 3",
   "language": "python",
   "name": "python3"
  },
  "language_info": {
   "codemirror_mode": {
    "name": "ipython",
    "version": 3
   },
   "file_extension": ".py",
   "mimetype": "text/x-python",
   "name": "python",
   "nbconvert_exporter": "python",
   "pygments_lexer": "ipython3",
   "version": "3.7.3"
  }
 },
 "nbformat": 4,
 "nbformat_minor": 2
}
