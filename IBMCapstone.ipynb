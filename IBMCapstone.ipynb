{
 "cells": [
  {
   "cell_type": "markdown",
   "metadata": {},
   "source": [
    "IBM Capstone"
   ]
  },
  {
   "cell_type": "code",
   "execution_count": 1,
   "metadata": {},
   "outputs": [],
   "source": [
    "import pandas as pd\n",
    "import numpy as np\n",
    "from bs4 import BeautifulSoup\n",
    "import requests\n",
    "import sys\n",
    "\n",
    "##Chenge the DataFrame output disply format so that it permits me to \n",
    "##inspect the total ammount of data stores in the final DataFrame\n",
    "pd.options.display.max_rows = 999\n",
    "pd.set_option('max_colwidth', 140)"
   ]
  },
  {
   "cell_type": "markdown",
   "metadata": {},
   "source": [
    "Getting the data from Wikipedia and Parsing it with BeautifulSoup"
   ]
  },
  {
   "cell_type": "code",
   "execution_count": 42,
   "metadata": {},
   "outputs": [],
   "source": [
    "# getting data from internet\n",
    "wikipedia_link='https://en.wikipedia.org/wiki/List_of_postal_codes_of_Canada:_M'\n",
    "raw_wikipedia_page= requests.get(wikipedia_link).text\n",
    "\n",
    "# using beautiful soup to parse the HTML/XML codes.\n",
    "soup = BeautifulSoup(raw_wikipedia_page,'xml')"
   ]
  },
  {
   "cell_type": "code",
   "execution_count": 85,
   "metadata": {},
   "outputs": [],
   "source": [
    "##Creating the table variable which containg the information of the wikipedia page table for \n",
    "##the Postcodes Boroughs and Neighborhoods of the Toronto area\n",
    "table = soup.find('table')"
   ]
  },
  {
   "cell_type": "markdown",
   "metadata": {},
   "source": [
    "Here I am creating the column title list for the data frame"
   ]
  },
  {
   "cell_type": "code",
   "execution_count": 246,
   "metadata": {},
   "outputs": [
    {
     "name": "stdout",
     "output_type": "stream",
     "text": [
      "['Postcode', 'Borough', 'Neighbourhood']\n"
     ]
    }
   ],
   "source": [
    "#an empty list that will hold the titles of the table columns\n",
    "dataframe_titles=[]\n",
    "th_cell=table.find_all('th') # in html the /th tag declares the column titles of a table\n",
    "for title in th_cell:\n",
    "    dataframe_titles.append(title.text.strip()) #strip\n",
    "print(dataframe_titles)"
   ]
  },
  {
   "cell_type": "markdown",
   "metadata": {},
   "source": [
    "Here I am filling three string lists one for each table column.\n",
    "Every postcode entry has a valid string.\n",
    "The borough string and the neighborhood string may have 'Not assigned' as a value.\n",
    "We need to respect the following criteria:\n",
    "a) If the Borough == 'Not assigned' then I skip the table entry\n",
    "b) If PostCode and Borough are valid but Neighbnorhood == 'Not Assigned'\n",
    "then we have to assign the Neighborhood with the name of the respective Borough."
   ]
  },
  {
   "cell_type": "code",
   "execution_count": 278,
   "metadata": {},
   "outputs": [],
   "source": [
    "##decleration of the list variables that will contain the postcodes, boroughs and neighborhoods of the table\n",
    "##These are not the final lists. These are the tables that contain the total information of the wikipedia table\n",
    "##Thus the suffix _orig in the end of their name\n",
    "PostCode_strlist_orig=[]\n",
    "Borough_strlist_orig=[]\n",
    "Neighborhood_strlist_orig=[]\n",
    "\n",
    "for index_tr,tr_cell in enumerate(table.find_all('tr')):\n",
    "    ##this 1st \"if\" is because we need to skip the first row of the table\n",
    "    ##which holds the column titles, since we already decrared them previously\n",
    "    if index_tr==0:\n",
    "        continue \n",
    "        \n",
    "    #variable declaration \n",
    "    postcode_var=''\n",
    "    borough_var=''\n",
    "    neigh_var=''\n",
    "        \n",
    "    for index_td, td_cell in enumerate(tr_cell.find_all('td')):\n",
    "        ##we use the str() cast method to retrive strings and\n",
    "        ##and the .strip() to get rid of any '/n' residuals (or others) at the\n",
    "        ##end (or begining) of the strings\n",
    "        if index_td==0:\n",
    "            postcode_var=str(td_cell.text).strip()\n",
    "            continue\n",
    "        elif index_td==1:\n",
    "            borough_var=str(td_cell.text).strip()\n",
    "            continue\n",
    "        elif index_td==2:\n",
    "            neigh_var=str(td_cell.text).strip()\n",
    "            continue\n",
    "        else:\n",
    "            print(\"Strange Index in td loop\")\n",
    "            sys.exit(0)\n",
    "        \n",
    "    ##Here we check if the criteria for Borough and Neighbourhood are fulfilled\n",
    "    ##and act acoordingly (read the markdown segment)\n",
    "    if borough_var=='Not assigned':\n",
    "        continue\n",
    "    if neigh_var=='Not assigned':\n",
    "        neigh_var=borough_var \n",
    "   \n",
    "    ## Fill the lists using the append method\n",
    "    PostCode_strlist_orig.append(postcode_var)\n",
    "    Borough_strlist_orig.append(borough_var)\n",
    "    Neighborhood_strlist_orig.append(neigh_var.strip())"
   ]
  },
  {
   "cell_type": "markdown",
   "metadata": {},
   "source": [
    "Here we identify the unique PostCode string values.\n",
    "Then we are going through this unique Postcode values and we search for these values in the PostCode_strlist_orig list we created above. Every time we find this unique postcode in the PostCode_strlist_orig we fill the<br> postcode_var<br>\n",
    "borough_var (from the Borough_strlist_orig value)<br>\n",
    "and we append into the neighborhood_var (from the Neighborhood_strlist_orig)<br>\n",
    "In this last part we want to create a string of the form 'neighborhood_1, neighborhood_2, ..., neighborhood_n'<br>\n",
    "ALL this string values are then used to fill their respective lists.\n",
    "\n",
    "\n",
    "Remark on the Wikipedia table contents:\n",
    "\n",
    "a) A postcode corresponds to multiple neighborhoods<br>\n",
    "b) The boroughs do not identify with a postcode uniquely\n",
    "\n",
    "So we may get the following pattern<br>\n",
    "postcode_1 -> Borough_1 -> Neighborhood_1<br>\n",
    "postcode_2 -> Borough_1 -> Neighborhood_2\n",
    "\n",
    "BUT if 2 or more Neighborhoods have the same postcode they seem to belong to the same Borough<br>\n",
    "postcode_3 -> Borough_3 -> Neighborhood_3<br>\n",
    "postcode_3 -> Borough_3 -> Neighborhood_4\n",
    "\n",
    "Since we are grouping the data according to the PostCode values we expect that 1 PostCode will have 1 Borough Value\n",
    "and n (multiple) Neighborhood values. Though 2 different postcodes may have the same Borough value. The same postcodes must have the same Borough values.\n"
   ]
  },
  {
   "cell_type": "code",
   "execution_count": 279,
   "metadata": {},
   "outputs": [],
   "source": [
    "unique_postcode_list=list(set(PostCode_strlist_orig))\n",
    "len(unique_postcode_list)\n",
    "\n",
    "#final lists before the dataframe creation\n",
    "postcodes_list_final=[]\n",
    "boroughs_list_final=[]\n",
    "neighborhoods_list_final=[]\n",
    "\n",
    "for postcode in unique_postcode_list:\n",
    "    #print(postcode)\n",
    "    postcode_var=''\n",
    "    borough_var=''\n",
    "    neighborhood_var=''\n",
    "\n",
    "    for pc_index,pc_element in enumerate(PostCode_strlist_orig):\n",
    "        \n",
    "        if pc_element==postcode:\n",
    "            postcode_var=PostCode_strlist_orig[pc_index]\n",
    "            borough_var=Borough_strlist_orig[pc_index]\n",
    "            \n",
    "            \n",
    "            if neighborhood_var=='':\n",
    "                neighborhood_var=Neighborhood_strlist_orig[pc_index]\n",
    "            else:\n",
    "                neighborhood_var=neighborhood_var+', '+Neighborhood_strlist_orig[pc_index]\n",
    "    \n",
    "    postcodes_list_final.append(postcode_var)\n",
    "    boroughs_list_final.append(borough_var)\n",
    "    neighborhoods_list_final.append(neighborhood_var)"
   ]
  },
  {
   "cell_type": "markdown",
   "metadata": {},
   "source": [
    "Here I create the data frame"
   ]
  },
  {
   "cell_type": "code",
   "execution_count": 280,
   "metadata": {},
   "outputs": [],
   "source": [
    "toronto={dataframe_titles[0]:postcodes_list_final,dataframe_titles[1]:\\\n",
    "         boroughs_list_final,dataframe_titles[2]:\\\n",
    "         neighborhoods_list_final}\n",
    "df_toronto=pd.DataFrame(toronto,columns=[dataframe_titles[0],dataframe_titles[1],dataframe_titles[2]]) "
   ]
  },
  {
   "cell_type": "code",
   "execution_count": 284,
   "metadata": {},
   "outputs": [],
   "source": [
    "#df_toronto"
   ]
  },
  {
   "cell_type": "code",
   "execution_count": 285,
   "metadata": {},
   "outputs": [],
   "source": [
    "#in case i want to check wikipedia table for mistakes\n",
    "#df_toronto.sort_values('Postcode')"
   ]
  },
  {
   "cell_type": "code",
   "execution_count": 286,
   "metadata": {},
   "outputs": [
    {
     "data": {
      "text/plain": [
       "(103, 3)"
      ]
     },
     "execution_count": 286,
     "metadata": {},
     "output_type": "execute_result"
    }
   ],
   "source": [
    "df_toronto.shape"
   ]
  },
  {
   "cell_type": "code",
   "execution_count": null,
   "metadata": {},
   "outputs": [],
   "source": []
  }
 ],
 "metadata": {
  "kernelspec": {
   "display_name": "Python 3",
   "language": "python",
   "name": "python3"
  },
  "language_info": {
   "codemirror_mode": {
    "name": "ipython",
    "version": 3
   },
   "file_extension": ".py",
   "mimetype": "text/x-python",
   "name": "python",
   "nbconvert_exporter": "python",
   "pygments_lexer": "ipython3",
   "version": "3.7.3"
  }
 },
 "nbformat": 4,
 "nbformat_minor": 2
}
